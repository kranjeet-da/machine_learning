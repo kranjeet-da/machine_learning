{
  "nbformat": 4,
  "nbformat_minor": 0,
  "metadata": {
    "colab": {
      "name": "SpaData",
      "provenance": [],
      "authorship_tag": "ABX9TyOMQp/f2mpoFUODOXG0ZCpd",
      "include_colab_link": true
    },
    "kernelspec": {
      "name": "python3",
      "display_name": "Python 3"
    }
  },
  "cells": [
    {
      "cell_type": "markdown",
      "metadata": {
        "id": "view-in-github",
        "colab_type": "text"
      },
      "source": [
        "<a href=\"https://colab.research.google.com/github/kranjeet-da/ml/blob/main/SpaData.ipynb\" target=\"_parent\"><img src=\"https://colab.research.google.com/assets/colab-badge.svg\" alt=\"Open In Colab\"/></a>"
      ]
    },
    {
      "cell_type": "code",
      "metadata": {
        "id": "IZJ8gdQEm40u"
      },
      "source": [
        "import pandas as pd\n",
        "import numpy as np"
      ],
      "execution_count": null,
      "outputs": []
    },
    {
      "cell_type": "code",
      "metadata": {
        "id": "a7wpTmtJnFMA"
      },
      "source": [
        "df = pd.read_csv(\"/content/SpaData.csv\")"
      ],
      "execution_count": null,
      "outputs": []
    },
    {
      "cell_type": "code",
      "metadata": {
        "id": "zEkPpQxVnUen",
        "colab": {
          "base_uri": "https://localhost:8080/",
          "height": 990
        },
        "outputId": "74d7c573-a669-45e8-8139-eb04a0449a52"
      },
      "source": [
        "df.head(30)"
      ],
      "execution_count": null,
      "outputs": [
        {
          "output_type": "execute_result",
          "data": {
            "text/html": [
              "<div>\n",
              "<style scoped>\n",
              "    .dataframe tbody tr th:only-of-type {\n",
              "        vertical-align: middle;\n",
              "    }\n",
              "\n",
              "    .dataframe tbody tr th {\n",
              "        vertical-align: top;\n",
              "    }\n",
              "\n",
              "    .dataframe thead th {\n",
              "        text-align: right;\n",
              "    }\n",
              "</style>\n",
              "<table border=\"1\" class=\"dataframe\">\n",
              "  <thead>\n",
              "    <tr style=\"text-align: right;\">\n",
              "      <th></th>\n",
              "      <th>ID</th>\n",
              "      <th>TimeStamp</th>\n",
              "      <th>Temperature</th>\n",
              "      <th>RelativeHumidity</th>\n",
              "      <th>Light</th>\n",
              "      <th>OxygenLevels</th>\n",
              "      <th>HumidityRatio</th>\n",
              "      <th>GTOccupancy</th>\n",
              "    </tr>\n",
              "  </thead>\n",
              "  <tbody>\n",
              "    <tr>\n",
              "      <th>0</th>\n",
              "      <td>2342</td>\n",
              "      <td>6/2/2015 8:51</td>\n",
              "      <td>20.840000</td>\n",
              "      <td>19.745000</td>\n",
              "      <td>433.000000</td>\n",
              "      <td>629.750000</td>\n",
              "      <td>0.003000</td>\n",
              "      <td>1</td>\n",
              "    </tr>\n",
              "    <tr>\n",
              "      <th>1</th>\n",
              "      <td>6419</td>\n",
              "      <td>9/2/2015 4:49</td>\n",
              "      <td>19.290000</td>\n",
              "      <td>26.890000</td>\n",
              "      <td>0.000000</td>\n",
              "      <td>466.000000</td>\n",
              "      <td>0.003716</td>\n",
              "      <td>0</td>\n",
              "    </tr>\n",
              "    <tr>\n",
              "      <th>2</th>\n",
              "      <td>3330</td>\n",
              "      <td>7/2/2015 1:20</td>\n",
              "      <td>20.000000</td>\n",
              "      <td>18.700000</td>\n",
              "      <td>0.000000</td>\n",
              "      <td>435.500000</td>\n",
              "      <td>0.002696</td>\n",
              "      <td>0</td>\n",
              "    </tr>\n",
              "    <tr>\n",
              "      <th>3</th>\n",
              "      <td>7188</td>\n",
              "      <td>9/2/2015 17:38</td>\n",
              "      <td>22.200000</td>\n",
              "      <td>38.433333</td>\n",
              "      <td>429.500000</td>\n",
              "      <td>1943.500000</td>\n",
              "      <td>0.006381</td>\n",
              "      <td>1</td>\n",
              "    </tr>\n",
              "    <tr>\n",
              "      <th>4</th>\n",
              "      <td>7655</td>\n",
              "      <td>10/2/2015 1:25</td>\n",
              "      <td>20.245000</td>\n",
              "      <td>32.900000</td>\n",
              "      <td>0.000000</td>\n",
              "      <td>469.000000</td>\n",
              "      <td>0.004833</td>\n",
              "      <td>0</td>\n",
              "    </tr>\n",
              "    <tr>\n",
              "      <th>5</th>\n",
              "      <td>371</td>\n",
              "      <td>5/2/2015 0:01</td>\n",
              "      <td>21.245000</td>\n",
              "      <td>25.245000</td>\n",
              "      <td>0.000000</td>\n",
              "      <td>458.500000</td>\n",
              "      <td>0.003938</td>\n",
              "      <td>0</td>\n",
              "    </tr>\n",
              "    <tr>\n",
              "      <th>6</th>\n",
              "      <td>4298</td>\n",
              "      <td>7/2/2015 17:28</td>\n",
              "      <td>20.500000</td>\n",
              "      <td>21.245000</td>\n",
              "      <td>0.000000</td>\n",
              "      <td>439.500000</td>\n",
              "      <td>0.003162</td>\n",
              "      <td>0</td>\n",
              "    </tr>\n",
              "    <tr>\n",
              "      <th>7</th>\n",
              "      <td>7261</td>\n",
              "      <td>9/2/2015 18:51</td>\n",
              "      <td>21.290000</td>\n",
              "      <td>36.450000</td>\n",
              "      <td>0.000000</td>\n",
              "      <td>1381.500000</td>\n",
              "      <td>0.005718</td>\n",
              "      <td>0</td>\n",
              "    </tr>\n",
              "    <tr>\n",
              "      <th>8</th>\n",
              "      <td>4486</td>\n",
              "      <td>7/2/2015 20:36</td>\n",
              "      <td>20.000000</td>\n",
              "      <td>25.700000</td>\n",
              "      <td>0.000000</td>\n",
              "      <td>439.500000</td>\n",
              "      <td>0.003712</td>\n",
              "      <td>0</td>\n",
              "    </tr>\n",
              "    <tr>\n",
              "      <th>9</th>\n",
              "      <td>3715</td>\n",
              "      <td>7/2/2015 7:45</td>\n",
              "      <td>19.700000</td>\n",
              "      <td>19.390000</td>\n",
              "      <td>0.000000</td>\n",
              "      <td>445.000000</td>\n",
              "      <td>0.002744</td>\n",
              "      <td>0</td>\n",
              "    </tr>\n",
              "    <tr>\n",
              "      <th>10</th>\n",
              "      <td>7782</td>\n",
              "      <td>10/2/2015 3:32</td>\n",
              "      <td>20.200000</td>\n",
              "      <td>32.900000</td>\n",
              "      <td>0.000000</td>\n",
              "      <td>448.333333</td>\n",
              "      <td>0.004819</td>\n",
              "      <td>0</td>\n",
              "    </tr>\n",
              "    <tr>\n",
              "      <th>11</th>\n",
              "      <td>3687</td>\n",
              "      <td>7/2/2015 7:17</td>\n",
              "      <td>19.666667</td>\n",
              "      <td>19.356667</td>\n",
              "      <td>0.000000</td>\n",
              "      <td>453.333333</td>\n",
              "      <td>0.002734</td>\n",
              "      <td>0</td>\n",
              "    </tr>\n",
              "    <tr>\n",
              "      <th>12</th>\n",
              "      <td>5510</td>\n",
              "      <td>8/2/2015 13:40</td>\n",
              "      <td>20.700000</td>\n",
              "      <td>27.390000</td>\n",
              "      <td>147.500000</td>\n",
              "      <td>420.500000</td>\n",
              "      <td>0.004133</td>\n",
              "      <td>0</td>\n",
              "    </tr>\n",
              "    <tr>\n",
              "      <th>13</th>\n",
              "      <td>4656</td>\n",
              "      <td>7/2/2015 23:25</td>\n",
              "      <td>19.700000</td>\n",
              "      <td>28.945000</td>\n",
              "      <td>0.000000</td>\n",
              "      <td>437.500000</td>\n",
              "      <td>0.004106</td>\n",
              "      <td>0</td>\n",
              "    </tr>\n",
              "    <tr>\n",
              "      <th>14</th>\n",
              "      <td>837</td>\n",
              "      <td>5/2/2015 7:46</td>\n",
              "      <td>20.815000</td>\n",
              "      <td>22.867500</td>\n",
              "      <td>411.000000</td>\n",
              "      <td>497.750000</td>\n",
              "      <td>0.003472</td>\n",
              "      <td>1</td>\n",
              "    </tr>\n",
              "    <tr>\n",
              "      <th>15</th>\n",
              "      <td>7314</td>\n",
              "      <td>9/2/2015 19:44</td>\n",
              "      <td>20.700000</td>\n",
              "      <td>35.345000</td>\n",
              "      <td>0.000000</td>\n",
              "      <td>1060.000000</td>\n",
              "      <td>0.005344</td>\n",
              "      <td>0</td>\n",
              "    </tr>\n",
              "    <tr>\n",
              "      <th>16</th>\n",
              "      <td>2000</td>\n",
              "      <td>6/2/2015 3:10</td>\n",
              "      <td>20.525000</td>\n",
              "      <td>19.075000</td>\n",
              "      <td>0.000000</td>\n",
              "      <td>432.000000</td>\n",
              "      <td>0.002842</td>\n",
              "      <td>0</td>\n",
              "    </tr>\n",
              "    <tr>\n",
              "      <th>17</th>\n",
              "      <td>342</td>\n",
              "      <td>4/2/2015 23:31</td>\n",
              "      <td>21.200000</td>\n",
              "      <td>25.290000</td>\n",
              "      <td>0.000000</td>\n",
              "      <td>468.000000</td>\n",
              "      <td>0.003934</td>\n",
              "      <td>0</td>\n",
              "    </tr>\n",
              "    <tr>\n",
              "      <th>18</th>\n",
              "      <td>2665</td>\n",
              "      <td>6/2/2015 14:15</td>\n",
              "      <td>21.890000</td>\n",
              "      <td>19.500000</td>\n",
              "      <td>534.666667</td>\n",
              "      <td>688.333333</td>\n",
              "      <td>0.003161</td>\n",
              "      <td>1</td>\n",
              "    </tr>\n",
              "    <tr>\n",
              "      <th>19</th>\n",
              "      <td>7755</td>\n",
              "      <td>10/2/2015 3:04</td>\n",
              "      <td>20.290000</td>\n",
              "      <td>32.900000</td>\n",
              "      <td>0.000000</td>\n",
              "      <td>451.000000</td>\n",
              "      <td>0.004846</td>\n",
              "      <td>0</td>\n",
              "    </tr>\n",
              "    <tr>\n",
              "      <th>20</th>\n",
              "      <td>7226</td>\n",
              "      <td>9/2/2015 18:16</td>\n",
              "      <td>21.840000</td>\n",
              "      <td>37.345000</td>\n",
              "      <td>0.000000</td>\n",
              "      <td>1682.000000</td>\n",
              "      <td>0.006062</td>\n",
              "      <td>0</td>\n",
              "    </tr>\n",
              "    <tr>\n",
              "      <th>21</th>\n",
              "      <td>5627</td>\n",
              "      <td>8/2/2015 15:36</td>\n",
              "      <td>20.000000</td>\n",
              "      <td>26.290000</td>\n",
              "      <td>40.500000</td>\n",
              "      <td>421.500000</td>\n",
              "      <td>0.003797</td>\n",
              "      <td>0</td>\n",
              "    </tr>\n",
              "    <tr>\n",
              "      <th>22</th>\n",
              "      <td>5202</td>\n",
              "      <td>8/2/2015 8:31</td>\n",
              "      <td>19.222500</td>\n",
              "      <td>31.125000</td>\n",
              "      <td>11.500000</td>\n",
              "      <td>430.500000</td>\n",
              "      <td>0.004287</td>\n",
              "      <td>0</td>\n",
              "    </tr>\n",
              "    <tr>\n",
              "      <th>23</th>\n",
              "      <td>8074</td>\n",
              "      <td>10/2/2015 8:23</td>\n",
              "      <td>20.290000</td>\n",
              "      <td>33.200000</td>\n",
              "      <td>0.000000</td>\n",
              "      <td>460.000000</td>\n",
              "      <td>0.004891</td>\n",
              "      <td>0</td>\n",
              "    </tr>\n",
              "    <tr>\n",
              "      <th>24</th>\n",
              "      <td>5324</td>\n",
              "      <td>8/2/2015 10:34</td>\n",
              "      <td>19.290000</td>\n",
              "      <td>30.566667</td>\n",
              "      <td>6.000000</td>\n",
              "      <td>428.666667</td>\n",
              "      <td>0.004227</td>\n",
              "      <td>0</td>\n",
              "    </tr>\n",
              "    <tr>\n",
              "      <th>25</th>\n",
              "      <td>5752</td>\n",
              "      <td>8/2/2015 17:42</td>\n",
              "      <td>19.390000</td>\n",
              "      <td>27.200000</td>\n",
              "      <td>0.000000</td>\n",
              "      <td>423.000000</td>\n",
              "      <td>0.003783</td>\n",
              "      <td>0</td>\n",
              "    </tr>\n",
              "    <tr>\n",
              "      <th>26</th>\n",
              "      <td>4417</td>\n",
              "      <td>7/2/2015 19:27</td>\n",
              "      <td>20.100000</td>\n",
              "      <td>24.200000</td>\n",
              "      <td>0.000000</td>\n",
              "      <td>439.000000</td>\n",
              "      <td>0.003516</td>\n",
              "      <td>0</td>\n",
              "    </tr>\n",
              "    <tr>\n",
              "      <th>27</th>\n",
              "      <td>4823</td>\n",
              "      <td>8/2/2015 2:12</td>\n",
              "      <td>19.390000</td>\n",
              "      <td>30.700000</td>\n",
              "      <td>0.000000</td>\n",
              "      <td>440.500000</td>\n",
              "      <td>0.004273</td>\n",
              "      <td>0</td>\n",
              "    </tr>\n",
              "    <tr>\n",
              "      <th>28</th>\n",
              "      <td>2347</td>\n",
              "      <td>6/2/2015 8:57</td>\n",
              "      <td>20.856667</td>\n",
              "      <td>19.793333</td>\n",
              "      <td>433.000000</td>\n",
              "      <td>648.000000</td>\n",
              "      <td>0.003010</td>\n",
              "      <td>1</td>\n",
              "    </tr>\n",
              "    <tr>\n",
              "      <th>29</th>\n",
              "      <td>1194</td>\n",
              "      <td>5/2/2015 13:44</td>\n",
              "      <td>22.340000</td>\n",
              "      <td>26.100000</td>\n",
              "      <td>476.500000</td>\n",
              "      <td>870.000000</td>\n",
              "      <td>0.004356</td>\n",
              "      <td>0</td>\n",
              "    </tr>\n",
              "  </tbody>\n",
              "</table>\n",
              "</div>"
            ],
            "text/plain": [
              "      ID       TimeStamp  Temperature  ...  OxygenLevels  HumidityRatio  GTOccupancy\n",
              "0   2342   6/2/2015 8:51    20.840000  ...    629.750000       0.003000            1\n",
              "1   6419   9/2/2015 4:49    19.290000  ...    466.000000       0.003716            0\n",
              "2   3330   7/2/2015 1:20    20.000000  ...    435.500000       0.002696            0\n",
              "3   7188  9/2/2015 17:38    22.200000  ...   1943.500000       0.006381            1\n",
              "4   7655  10/2/2015 1:25    20.245000  ...    469.000000       0.004833            0\n",
              "5    371   5/2/2015 0:01    21.245000  ...    458.500000       0.003938            0\n",
              "6   4298  7/2/2015 17:28    20.500000  ...    439.500000       0.003162            0\n",
              "7   7261  9/2/2015 18:51    21.290000  ...   1381.500000       0.005718            0\n",
              "8   4486  7/2/2015 20:36    20.000000  ...    439.500000       0.003712            0\n",
              "9   3715   7/2/2015 7:45    19.700000  ...    445.000000       0.002744            0\n",
              "10  7782  10/2/2015 3:32    20.200000  ...    448.333333       0.004819            0\n",
              "11  3687   7/2/2015 7:17    19.666667  ...    453.333333       0.002734            0\n",
              "12  5510  8/2/2015 13:40    20.700000  ...    420.500000       0.004133            0\n",
              "13  4656  7/2/2015 23:25    19.700000  ...    437.500000       0.004106            0\n",
              "14   837   5/2/2015 7:46    20.815000  ...    497.750000       0.003472            1\n",
              "15  7314  9/2/2015 19:44    20.700000  ...   1060.000000       0.005344            0\n",
              "16  2000   6/2/2015 3:10    20.525000  ...    432.000000       0.002842            0\n",
              "17   342  4/2/2015 23:31    21.200000  ...    468.000000       0.003934            0\n",
              "18  2665  6/2/2015 14:15    21.890000  ...    688.333333       0.003161            1\n",
              "19  7755  10/2/2015 3:04    20.290000  ...    451.000000       0.004846            0\n",
              "20  7226  9/2/2015 18:16    21.840000  ...   1682.000000       0.006062            0\n",
              "21  5627  8/2/2015 15:36    20.000000  ...    421.500000       0.003797            0\n",
              "22  5202   8/2/2015 8:31    19.222500  ...    430.500000       0.004287            0\n",
              "23  8074  10/2/2015 8:23    20.290000  ...    460.000000       0.004891            0\n",
              "24  5324  8/2/2015 10:34    19.290000  ...    428.666667       0.004227            0\n",
              "25  5752  8/2/2015 17:42    19.390000  ...    423.000000       0.003783            0\n",
              "26  4417  7/2/2015 19:27    20.100000  ...    439.000000       0.003516            0\n",
              "27  4823   8/2/2015 2:12    19.390000  ...    440.500000       0.004273            0\n",
              "28  2347   6/2/2015 8:57    20.856667  ...    648.000000       0.003010            1\n",
              "29  1194  5/2/2015 13:44    22.340000  ...    870.000000       0.004356            0\n",
              "\n",
              "[30 rows x 8 columns]"
            ]
          },
          "metadata": {
            "tags": []
          },
          "execution_count": 60
        }
      ]
    },
    {
      "cell_type": "code",
      "metadata": {
        "id": "rA15s11on0tN",
        "colab": {
          "base_uri": "https://localhost:8080/"
        },
        "outputId": "c4b399b7-e5c9-4f01-bd09-9dfc7b1909c1"
      },
      "source": [
        "df['ID'].isnull().count()"
      ],
      "execution_count": null,
      "outputs": [
        {
          "output_type": "execute_result",
          "data": {
            "text/plain": [
              "6514"
            ]
          },
          "metadata": {
            "tags": []
          },
          "execution_count": 61
        }
      ]
    },
    {
      "cell_type": "code",
      "metadata": {
        "id": "0Va0zcJ6dN8c"
      },
      "source": [
        ""
      ],
      "execution_count": null,
      "outputs": []
    },
    {
      "cell_type": "code",
      "metadata": {
        "id": "TPqmiX9poDzx",
        "colab": {
          "base_uri": "https://localhost:8080/"
        },
        "outputId": "066f1317-637f-4d5b-8098-42dffe72c7a1"
      },
      "source": [
        "df['ID'].notnull().count()"
      ],
      "execution_count": null,
      "outputs": [
        {
          "output_type": "execute_result",
          "data": {
            "text/plain": [
              "6514"
            ]
          },
          "metadata": {
            "tags": []
          },
          "execution_count": 62
        }
      ]
    },
    {
      "cell_type": "code",
      "metadata": {
        "id": "r2QtUzS4oca8"
      },
      "source": [
        "# df.isnull()"
      ],
      "execution_count": null,
      "outputs": []
    },
    {
      "cell_type": "code",
      "metadata": {
        "id": "mIkV3JDeuXRR",
        "colab": {
          "base_uri": "https://localhost:8080/"
        },
        "outputId": "cd22120e-e547-4a2c-a2c6-2bd15b035da7"
      },
      "source": [
        "df.shape"
      ],
      "execution_count": null,
      "outputs": [
        {
          "output_type": "execute_result",
          "data": {
            "text/plain": [
              "(6514, 8)"
            ]
          },
          "metadata": {
            "tags": []
          },
          "execution_count": 64
        }
      ]
    },
    {
      "cell_type": "code",
      "metadata": {
        "id": "FRXhAtdhwsa5"
      },
      "source": [
        "df = df.drop([\"TimeStamp\"], axis=1)"
      ],
      "execution_count": null,
      "outputs": []
    },
    {
      "cell_type": "code",
      "metadata": {
        "id": "nrVGOM3pxfYF",
        "colab": {
          "base_uri": "https://localhost:8080/"
        },
        "outputId": "a0d592f9-c6a2-451c-b169-e7dc9c9e10a4"
      },
      "source": [
        "df.shape"
      ],
      "execution_count": null,
      "outputs": [
        {
          "output_type": "execute_result",
          "data": {
            "text/plain": [
              "(6514, 7)"
            ]
          },
          "metadata": {
            "tags": []
          },
          "execution_count": 66
        }
      ]
    },
    {
      "cell_type": "code",
      "metadata": {
        "id": "9yxo_dqoxlHL",
        "colab": {
          "base_uri": "https://localhost:8080/",
          "height": 206
        },
        "outputId": "50593f6b-78bc-44ea-d9ea-54983b1fea82"
      },
      "source": [
        "df.head()"
      ],
      "execution_count": null,
      "outputs": [
        {
          "output_type": "execute_result",
          "data": {
            "text/html": [
              "<div>\n",
              "<style scoped>\n",
              "    .dataframe tbody tr th:only-of-type {\n",
              "        vertical-align: middle;\n",
              "    }\n",
              "\n",
              "    .dataframe tbody tr th {\n",
              "        vertical-align: top;\n",
              "    }\n",
              "\n",
              "    .dataframe thead th {\n",
              "        text-align: right;\n",
              "    }\n",
              "</style>\n",
              "<table border=\"1\" class=\"dataframe\">\n",
              "  <thead>\n",
              "    <tr style=\"text-align: right;\">\n",
              "      <th></th>\n",
              "      <th>ID</th>\n",
              "      <th>Temperature</th>\n",
              "      <th>RelativeHumidity</th>\n",
              "      <th>Light</th>\n",
              "      <th>OxygenLevels</th>\n",
              "      <th>HumidityRatio</th>\n",
              "      <th>GTOccupancy</th>\n",
              "    </tr>\n",
              "  </thead>\n",
              "  <tbody>\n",
              "    <tr>\n",
              "      <th>0</th>\n",
              "      <td>2342</td>\n",
              "      <td>20.840</td>\n",
              "      <td>19.745000</td>\n",
              "      <td>433.0</td>\n",
              "      <td>629.75</td>\n",
              "      <td>0.003000</td>\n",
              "      <td>1</td>\n",
              "    </tr>\n",
              "    <tr>\n",
              "      <th>1</th>\n",
              "      <td>6419</td>\n",
              "      <td>19.290</td>\n",
              "      <td>26.890000</td>\n",
              "      <td>0.0</td>\n",
              "      <td>466.00</td>\n",
              "      <td>0.003716</td>\n",
              "      <td>0</td>\n",
              "    </tr>\n",
              "    <tr>\n",
              "      <th>2</th>\n",
              "      <td>3330</td>\n",
              "      <td>20.000</td>\n",
              "      <td>18.700000</td>\n",
              "      <td>0.0</td>\n",
              "      <td>435.50</td>\n",
              "      <td>0.002696</td>\n",
              "      <td>0</td>\n",
              "    </tr>\n",
              "    <tr>\n",
              "      <th>3</th>\n",
              "      <td>7188</td>\n",
              "      <td>22.200</td>\n",
              "      <td>38.433333</td>\n",
              "      <td>429.5</td>\n",
              "      <td>1943.50</td>\n",
              "      <td>0.006381</td>\n",
              "      <td>1</td>\n",
              "    </tr>\n",
              "    <tr>\n",
              "      <th>4</th>\n",
              "      <td>7655</td>\n",
              "      <td>20.245</td>\n",
              "      <td>32.900000</td>\n",
              "      <td>0.0</td>\n",
              "      <td>469.00</td>\n",
              "      <td>0.004833</td>\n",
              "      <td>0</td>\n",
              "    </tr>\n",
              "  </tbody>\n",
              "</table>\n",
              "</div>"
            ],
            "text/plain": [
              "     ID  Temperature  ...  HumidityRatio  GTOccupancy\n",
              "0  2342       20.840  ...       0.003000            1\n",
              "1  6419       19.290  ...       0.003716            0\n",
              "2  3330       20.000  ...       0.002696            0\n",
              "3  7188       22.200  ...       0.006381            1\n",
              "4  7655       20.245  ...       0.004833            0\n",
              "\n",
              "[5 rows x 7 columns]"
            ]
          },
          "metadata": {
            "tags": []
          },
          "execution_count": 67
        }
      ]
    },
    {
      "cell_type": "code",
      "metadata": {
        "id": "x9q9qU3RoqcS"
      },
      "source": [
        "X = df.drop(\"GTOccupancy\", axis=1).values\n",
        "y = df[\"GTOccupancy\"].values"
      ],
      "execution_count": null,
      "outputs": []
    },
    {
      "cell_type": "code",
      "metadata": {
        "id": "QOm69mob946w"
      },
      "source": [
        "from sklearn.preprocessing import StandardScaler"
      ],
      "execution_count": null,
      "outputs": []
    },
    {
      "cell_type": "code",
      "metadata": {
        "id": "hHWuHa_N-KIv"
      },
      "source": [
        "sc = StandardScaler(X)"
      ],
      "execution_count": null,
      "outputs": []
    },
    {
      "cell_type": "code",
      "metadata": {
        "id": "V4UJOzEfsO_u"
      },
      "source": [
        "from sklearn.model_selection import train_test_split"
      ],
      "execution_count": null,
      "outputs": []
    },
    {
      "cell_type": "code",
      "metadata": {
        "id": "hj4Rv7-us8ts"
      },
      "source": [
        "X_train, X_test, y_train,y_test = train_test_split(X, y, test_size=0.3, random_state=42)"
      ],
      "execution_count": null,
      "outputs": []
    },
    {
      "cell_type": "code",
      "metadata": {
        "id": "_m5BEnnUt6sf"
      },
      "source": [
        "from sklearn.neighbors import KNeighborsClassifier\n",
        "neighbors = np.arange(1, 9)\n",
        "train_accuracy = np.empty(len(neighbors))\n",
        "test_accuracy = np.empty(len(neighbors))\n",
        "\n",
        "for i, k in enumerate(neighbors):\n",
        "    knn = KNeighborsClassifier(n_neighbors=k)\n",
        "    knn.fit(X_train, y_train)\n",
        "    train_accuracy[i] = knn.score(X_train, y_train)\n",
        "    test_accuracy[i] = knn.score(X_test, y_test)\n",
        "\n"
      ],
      "execution_count": null,
      "outputs": []
    },
    {
      "cell_type": "code",
      "metadata": {
        "id": "E3yq4UnPz-ad"
      },
      "source": [
        "import matplotlib.pyplot as plt\n",
        "plt.style.use('ggplot')"
      ],
      "execution_count": null,
      "outputs": []
    },
    {
      "cell_type": "code",
      "metadata": {
        "id": "GBb6h3ofwkX7",
        "colab": {
          "base_uri": "https://localhost:8080/",
          "height": 299
        },
        "outputId": "9f13b2ec-dd03-4fbb-8057-92190cc1d58c"
      },
      "source": [
        "plt.title('k-NN Varying number of neighbors')\n",
        "plt.plot(neighbors, test_accuracy, label='Testing Accuracy')\n",
        "plt.plot(neighbors, train_accuracy, label='Training accuracy')\n",
        "plt.legend()\n",
        "plt.xlabel('Number of neighbors')\n",
        "plt.ylabel('Accuracy')\n",
        "plt.show()"
      ],
      "execution_count": null,
      "outputs": [
        {
          "output_type": "display_data",
          "data": {
            "image/png": "[encoded data removed]",
            "text/plain": [
              "<Figure size 432x288 with 1 Axes>"
            ]
          },
          "metadata": {
            "tags": []
          }
        }
      ]
    },
    {
      "cell_type": "code",
      "metadata": {
        "id": "rP4qQtiS0LW_"
      },
      "source": [
        "knn = KNeighborsClassifier(n_neighbors=2)"
      ],
      "execution_count": null,
      "outputs": []
    },
    {
      "cell_type": "code",
      "metadata": {
        "id": "EIhdeFSa0hf3",
        "colab": {
          "base_uri": "https://localhost:8080/"
        },
        "outputId": "1a8aa576-27e2-4d9b-92a7-1ddc945e0d0a"
      },
      "source": [
        "knn.fit(X_train, y_train)"
      ],
      "execution_count": null,
      "outputs": [
        {
          "output_type": "execute_result",
          "data": {
            "text/plain": [
              "KNeighborsClassifier(algorithm='auto', leaf_size=30, metric='minkowski',\n",
              "                     metric_params=None, n_jobs=None, n_neighbors=2, p=2,\n",
              "                     weights='uniform')"
            ]
          },
          "metadata": {
            "tags": []
          },
          "execution_count": 37
        }
      ]
    },
    {
      "cell_type": "code",
      "metadata": {
        "id": "p0FabQc60mj6",
        "colab": {
          "base_uri": "https://localhost:8080/"
        },
        "outputId": "4c7ce19a-6eb1-4e67-b17d-2fc697d960d2"
      },
      "source": [
        "knn.score(X_test, y_test)"
      ],
      "execution_count": null,
      "outputs": [
        {
          "output_type": "execute_result",
          "data": {
            "text/plain": [
              "0.9938618925831202"
            ]
          },
          "metadata": {
            "tags": []
          },
          "execution_count": 38
        }
      ]
    },
    {
      "cell_type": "code",
      "metadata": {
        "id": "-4T_fNxX03-b"
      },
      "source": [
        "from sklearn.metrics import confusion_matrix"
      ],
      "execution_count": null,
      "outputs": []
    },
    {
      "cell_type": "code",
      "metadata": {
        "id": "wmjUuR3l2Kdd"
      },
      "source": [
        "y_pred = knn.predict(X_test)"
      ],
      "execution_count": null,
      "outputs": []
    },
    {
      "cell_type": "code",
      "metadata": {
        "id": "3TLY-f6I2jLl",
        "colab": {
          "base_uri": "https://localhost:8080/"
        },
        "outputId": "273453bc-be25-4dc3-f3a4-eb1464829aa7"
      },
      "source": [
        "confusion_matrix(y_test, y_pred)"
      ],
      "execution_count": null,
      "outputs": [
        {
          "output_type": "execute_result",
          "data": {
            "text/plain": [
              "array([[1557,    4],\n",
              "       [   8,  386]])"
            ]
          },
          "metadata": {
            "tags": []
          },
          "execution_count": 41
        }
      ]
    },
    {
      "cell_type": "code",
      "metadata": {
        "id": "ycXkIIw72xm4",
        "colab": {
          "base_uri": "https://localhost:8080/",
          "height": 175
        },
        "outputId": "539ef352-99b1-4f5b-c71a-2d392da8b886"
      },
      "source": [
        "pd.crosstab(y_test, y_pred, rownames=['True'], colnames=['Predicted'], margins=True)"
      ],
      "execution_count": null,
      "outputs": [
        {
          "output_type": "execute_result",
          "data": {
            "text/html": [
              "<div>\n",
              "<style scoped>\n",
              "    .dataframe tbody tr th:only-of-type {\n",
              "        vertical-align: middle;\n",
              "    }\n",
              "\n",
              "    .dataframe tbody tr th {\n",
              "        vertical-align: top;\n",
              "    }\n",
              "\n",
              "    .dataframe thead th {\n",
              "        text-align: right;\n",
              "    }\n",
              "</style>\n",
              "<table border=\"1\" class=\"dataframe\">\n",
              "  <thead>\n",
              "    <tr style=\"text-align: right;\">\n",
              "      <th>Predicted</th>\n",
              "      <th>0</th>\n",
              "      <th>1</th>\n",
              "      <th>All</th>\n",
              "    </tr>\n",
              "    <tr>\n",
              "      <th>True</th>\n",
              "      <th></th>\n",
              "      <th></th>\n",
              "      <th></th>\n",
              "    </tr>\n",
              "  </thead>\n",
              "  <tbody>\n",
              "    <tr>\n",
              "      <th>0</th>\n",
              "      <td>1557</td>\n",
              "      <td>4</td>\n",
              "      <td>1561</td>\n",
              "    </tr>\n",
              "    <tr>\n",
              "      <th>1</th>\n",
              "      <td>8</td>\n",
              "      <td>386</td>\n",
              "      <td>394</td>\n",
              "    </tr>\n",
              "    <tr>\n",
              "      <th>All</th>\n",
              "      <td>1565</td>\n",
              "      <td>390</td>\n",
              "      <td>1955</td>\n",
              "    </tr>\n",
              "  </tbody>\n",
              "</table>\n",
              "</div>"
            ],
            "text/plain": [
              "Predicted     0    1   All\n",
              "True                      \n",
              "0          1557    4  1561\n",
              "1             8  386   394\n",
              "All        1565  390  1955"
            ]
          },
          "metadata": {
            "tags": []
          },
          "execution_count": 42
        }
      ]
    },
    {
      "cell_type": "code",
      "metadata": {
        "id": "cHynnMFk25W9",
        "colab": {
          "base_uri": "https://localhost:8080/"
        },
        "outputId": "785d9984-fcb5-4502-9e2e-16df6ee416d3"
      },
      "source": [
        "print(y_pred)"
      ],
      "execution_count": null,
      "outputs": [
        {
          "output_type": "stream",
          "text": [
            "[0 0 1 ... 0 0 0]\n"
          ],
          "name": "stdout"
        }
      ]
    },
    {
      "cell_type": "code",
      "metadata": {
        "id": "MfJDsV3jMBlj"
      },
      "source": [
        "from sklearn.metrics import classification_report"
      ],
      "execution_count": null,
      "outputs": []
    },
    {
      "cell_type": "code",
      "metadata": {
        "id": "UcOjhfM2nd8f",
        "colab": {
          "base_uri": "https://localhost:8080/"
        },
        "outputId": "a8515d71-b70b-4292-93c6-b44e95e03edf"
      },
      "source": [
        "print(classification_report(y_test, y_pred))"
      ],
      "execution_count": null,
      "outputs": [
        {
          "output_type": "stream",
          "text": [
            "              precision    recall  f1-score   support\n",
            "\n",
            "           0       0.99      1.00      1.00      1561\n",
            "           1       0.99      0.98      0.98       394\n",
            "\n",
            "    accuracy                           0.99      1955\n",
            "   macro avg       0.99      0.99      0.99      1955\n",
            "weighted avg       0.99      0.99      0.99      1955\n",
            "\n"
          ],
          "name": "stdout"
        }
      ]
    },
    {
      "cell_type": "code",
      "metadata": {
        "id": "K1ybZ8E8n6gm"
      },
      "source": [
        "y_pred_prob = knn.predict_proba(X_test)[:,1]"
      ],
      "execution_count": null,
      "outputs": []
    },
    {
      "cell_type": "code",
      "metadata": {
        "id": "prbZcTqcoZNZ"
      },
      "source": [
        "from sklearn.metrics import roc_curve"
      ],
      "execution_count": null,
      "outputs": []
    },
    {
      "cell_type": "code",
      "metadata": {
        "id": "OnILpX9yonxX"
      },
      "source": [
        "fpr, tpr, threshold = roc_curve(y_test, y_pred_prob)"
      ],
      "execution_count": null,
      "outputs": []
    },
    {
      "cell_type": "code",
      "metadata": {
        "id": "C7WhyeE6o3Nj",
        "colab": {
          "base_uri": "https://localhost:8080/",
          "height": 299
        },
        "outputId": "175cbdd2-1ede-46d8-b021-b401d4714baf"
      },
      "source": [
        "plt.plot([0,1],[0,1],'k--')\n",
        "plt.plot(fpr,tpr, label='knn')\n",
        "plt.xlabel('fpr')\n",
        "plt.ylabel('tpr')\n",
        "plt.title('ROC_Curve')\n",
        "plt.show()"
      ],
      "execution_count": null,
      "outputs": [
        {
          "output_type": "display_data",
          "data": {
            "image/png": "[encoded data removed]",
            "text/plain": [
              "<Figure size 432x288 with 1 Axes>"
            ]
          },
          "metadata": {
            "tags": []
          }
        }
      ]
    },
    {
      "cell_type": "code",
      "metadata": {
        "id": "HVmKIcgPpKs9"
      },
      "source": [
        "from sklearn.metrics import roc_auc_score"
      ],
      "execution_count": null,
      "outputs": []
    },
    {
      "cell_type": "code",
      "metadata": {
        "id": "VYe2wJjCq8Ak",
        "colab": {
          "base_uri": "https://localhost:8080/"
        },
        "outputId": "31cdaba6-d549-49a7-a638-3a3a8cf9cfb1"
      },
      "source": [
        "print(roc_auc_score(y_test, y_pred_prob))"
      ],
      "execution_count": null,
      "outputs": [
        {
          "output_type": "stream",
          "text": [
            "0.9947978485742253\n"
          ],
          "name": "stdout"
        }
      ]
    },
    {
      "cell_type": "code",
      "metadata": {
        "id": "O2eOE_1UrEw8"
      },
      "source": [
        "from sklearn.model_selection import GridSearchCV"
      ],
      "execution_count": null,
      "outputs": []
    },
    {
      "cell_type": "code",
      "metadata": {
        "id": "FH_tQ1Mlrh1h"
      },
      "source": [
        "param_grid = {'n_neighbors': np.arange(1, 10)}"
      ],
      "execution_count": null,
      "outputs": []
    },
    {
      "cell_type": "code",
      "metadata": {
        "id": "167Mp-W5r4TB",
        "colab": {
          "base_uri": "https://localhost:8080/"
        },
        "outputId": "84b62b4d-0903-4b3e-f80c-13e931d6dfa4"
      },
      "source": [
        "knn = KNeighborsClassifier()\n",
        "knn_cv = GridSearchCV(knn, param_grid, cv=5)\n",
        "knn_cv.fit(X, y)"
      ],
      "execution_count": null,
      "outputs": [
        {
          "output_type": "execute_result",
          "data": {
            "text/plain": [
              "GridSearchCV(cv=5, error_score=nan,\n",
              "             estimator=KNeighborsClassifier(algorithm='auto', leaf_size=30,\n",
              "                                            metric='minkowski',\n",
              "                                            metric_params=None, n_jobs=None,\n",
              "                                            n_neighbors=5, p=2,\n",
              "                                            weights='uniform'),\n",
              "             iid='deprecated', n_jobs=None,\n",
              "             param_grid={'n_neighbors': array([1, 2, 3, 4, 5, 6, 7, 8, 9])},\n",
              "             pre_dispatch='2*n_jobs', refit=True, return_train_score=False,\n",
              "             scoring=None, verbose=0)"
            ]
          },
          "metadata": {
            "tags": []
          },
          "execution_count": 54
        }
      ]
    },
    {
      "cell_type": "code",
      "metadata": {
        "id": "EuOyJ2Tlsc1y",
        "colab": {
          "base_uri": "https://localhost:8080/"
        },
        "outputId": "891c1578-5b0d-41f5-9d9b-4a46796cc101"
      },
      "source": [
        "knn_cv.best_score_"
      ],
      "execution_count": null,
      "outputs": [
        {
          "output_type": "execute_result",
          "data": {
            "text/plain": [
              "0.9930916837311509"
            ]
          },
          "metadata": {
            "tags": []
          },
          "execution_count": 55
        }
      ]
    },
    {
      "cell_type": "code",
      "metadata": {
        "id": "L6y9nPNWsp4L",
        "colab": {
          "base_uri": "https://localhost:8080/"
        },
        "outputId": "e92a4929-b82b-4a05-9bd5-3559b9a99738"
      },
      "source": [
        "knn_cv.best_params_"
      ],
      "execution_count": null,
      "outputs": [
        {
          "output_type": "execute_result",
          "data": {
            "text/plain": [
              "{'n_neighbors': 7}"
            ]
          },
          "metadata": {
            "tags": []
          },
          "execution_count": 56
        }
      ]
    },
    {
      "cell_type": "markdown",
      "metadata": {
        "id": "r8WLFup9giaI"
      },
      "source": [
        "Logistic Regression"
      ]
    },
    {
      "cell_type": "code",
      "metadata": {
        "id": "AMViSuwgjC_S"
      },
      "source": [
        "# %% normalization\n",
        "# X = (X -np.min(X))/(np.max(X)-np.min(X))"
      ],
      "execution_count": null,
      "outputs": []
    },
    {
      "cell_type": "code",
      "metadata": {
        "id": "ZTIkqKRZk8DM"
      },
      "source": [
        "from sklearn.model_selection import train_test_split\n",
        "x_train, x_test, y_train, y_test = train_test_split(X, y, test_size=0.3, random_state=42)"
      ],
      "execution_count": null,
      "outputs": []
    },
    {
      "cell_type": "code",
      "metadata": {
        "id": "I5xnX6kzlPzW"
      },
      "source": [
        "from sklearn.linear_model import LogisticRegression\n",
        "from sklearn import metrics"
      ],
      "execution_count": null,
      "outputs": []
    },
    {
      "cell_type": "code",
      "metadata": {
        "id": "8-zr5U8GlPwF",
        "colab": {
          "base_uri": "https://localhost:8080/"
        },
        "outputId": "b1344f79-adab-43a2-a72c-28d8b8f8ee9d"
      },
      "source": [
        "logReg = LogisticRegression()\n",
        "logReg.fit(x_train, y_train)"
      ],
      "execution_count": null,
      "outputs": [
        {
          "output_type": "execute_result",
          "data": {
            "text/plain": [
              "LogisticRegression(C=1.0, class_weight=None, dual=False, fit_intercept=True,\n",
              "                   intercept_scaling=1, l1_ratio=None, max_iter=100,\n",
              "                   multi_class='auto', n_jobs=None, penalty='l2',\n",
              "                   random_state=None, solver='lbfgs', tol=0.0001, verbose=0,\n",
              "                   warm_start=False)"
            ]
          },
          "metadata": {
            "tags": []
          },
          "execution_count": 73
        }
      ]
    },
    {
      "cell_type": "code",
      "metadata": {
        "id": "xnT5d_SflPr7"
      },
      "source": [
        "y_pred = logReg.predict(x_test)"
      ],
      "execution_count": null,
      "outputs": []
    },
    {
      "cell_type": "code",
      "metadata": {
        "id": "fgW0zROhpQIo",
        "colab": {
          "base_uri": "https://localhost:8080/"
        },
        "outputId": "77d4ff4d-a55c-4f19-e6b5-539c874dab90"
      },
      "source": [
        "print('Accuracy of logistic Regression {:.4f}'.format(logReg.score(x_test, y_test)))"
      ],
      "execution_count": null,
      "outputs": [
        {
          "output_type": "stream",
          "text": [
            "Accuracy of logistic Regression 0.9841\n"
          ],
          "name": "stdout"
        }
      ]
    },
    {
      "cell_type": "code",
      "metadata": {
        "id": "Wtzg1YiApPRP"
      },
      "source": [
        "from sklearn.metrics import confusion_matrix\n",
        "confuss_Matric = confusion_matrix(y_test,y_pred)"
      ],
      "execution_count": null,
      "outputs": []
    },
    {
      "cell_type": "code",
      "metadata": {
        "id": "tH_5emKAqkkL",
        "colab": {
          "base_uri": "https://localhost:8080/"
        },
        "outputId": "2c8257f9-fad2-4dce-c090-45431a81ba4a"
      },
      "source": [
        "print(confuss_Matric)"
      ],
      "execution_count": null,
      "outputs": [
        {
          "output_type": "stream",
          "text": [
            "[[1531   30]\n",
            " [   1  393]]\n"
          ],
          "name": "stdout"
        }
      ]
    },
    {
      "cell_type": "code",
      "metadata": {
        "id": "_rCK92gasvFh",
        "colab": {
          "base_uri": "https://localhost:8080/"
        },
        "outputId": "2e243e30-c4dc-4d02-ea31-0627a0090fd6"
      },
      "source": [
        "from sklearn.metrics import classification_report\n",
        "report = classification_report(y_pred, y_test)\n",
        "print(report)"
      ],
      "execution_count": null,
      "outputs": [
        {
          "output_type": "stream",
          "text": [
            "              precision    recall  f1-score   support\n",
            "\n",
            "           0       0.98      1.00      0.99      1532\n",
            "           1       1.00      0.93      0.96       423\n",
            "\n",
            "    accuracy                           0.98      1955\n",
            "   macro avg       0.99      0.96      0.98      1955\n",
            "weighted avg       0.98      0.98      0.98      1955\n",
            "\n"
          ],
          "name": "stdout"
        }
      ]
    },
    {
      "cell_type": "code",
      "metadata": {
        "id": "bnxOTzFQrJro",
        "colab": {
          "base_uri": "https://localhost:8080/",
          "height": 299
        },
        "outputId": "1a31bf78-856b-4375-db14-4571496deb79"
      },
      "source": [
        "from sklearn.metrics import roc_auc_score\n",
        "from sklearn.metrics import roc_curve\n",
        "logit_roc_auc = roc_auc_score(y_test, logReg.predict(X_test))\n",
        "fpr, tpr, thresholds = roc_curve(y_test, logReg.predict_proba(X_test)[:,1])\n",
        "plt.figure()\n",
        "plt.plot(fpr, tpr, label='Logistic Regression (area = %0.2f)' % logit_roc_auc)\n",
        "plt.plot([0, 1], [0, 1],'r--')\n",
        "plt.xlim([0.0, 1.0])\n",
        "plt.ylim([0.0, 1.05])\n",
        "plt.xlabel('False Positive Rate')\n",
        "plt.ylabel('True Positive Rate')\n",
        "plt.title('Receiver operating characteristic')\n",
        "plt.legend(loc=\"lower right\")\n",
        "plt.savefig('Log_ROC')\n",
        "plt.show()"
      ],
      "execution_count": null,
      "outputs": [
        {
          "output_type": "display_data",
          "data": {
            "image/png": "[encoded data removed]",
            "text/plain": [
              "<Figure size 432x288 with 1 Axes>"
            ]
          },
          "metadata": {
            "tags": []
          }
        }
      ]
    },
    {
      "cell_type": "code",
      "metadata": {
        "id": "cXT1MrT7Y498"
      },
      "source": [
        "logReg = LogisticRegression()"
      ],
      "execution_count": null,
      "outputs": []
    },
    {
      "cell_type": "code",
      "metadata": {
        "id": "3K1kSl5JgIrJ"
      },
      "source": [
        "param_grid = [\n",
        "              {\n",
        "                  'penalty':['l1','l2','elasticnet', 'none'],\n",
        "               'C':np.logspace(-4,4,20),\n",
        "               'solver':['lbfgs','newton-cg','liblinear','sag','saga'],\n",
        "               'max_iter':[100,1000,2500,5000]\n",
        "              }\n",
        "]"
      ],
      "execution_count": null,
      "outputs": []
    },
    {
      "cell_type": "code",
      "metadata": {
        "id": "X3l7tN6ugIox"
      },
      "source": [
        "from sklearn.model_selection import GridSearchCV"
      ],
      "execution_count": null,
      "outputs": []
    },
    {
      "cell_type": "code",
      "metadata": {
        "id": "3XR1AyOegIkj"
      },
      "source": [
        "clf=GridSearchCV(logReg,param_grid=param_grid,cv=3, verbose=True, n_jobs=-1)"
      ],
      "execution_count": null,
      "outputs": []
    },
    {
      "cell_type": "code",
      "metadata": {
        "id": "QEEq2xqIgIgu",
        "colab": {
          "base_uri": "https://localhost:8080/"
        },
        "outputId": "c4797932-c601-4cf0-c2fe-42f70f9bfe00"
      },
      "source": [
        "best_clf=clf.fit(x_train, y_train)"
      ],
      "execution_count": null,
      "outputs": [
        {
          "output_type": "stream",
          "text": [
            "Fitting 3 folds for each of 1600 candidates, totalling 4800 fits\n"
          ],
          "name": "stdout"
        },
        {
          "output_type": "stream",
          "text": [
            "[Parallel(n_jobs=-1)]: Using backend LokyBackend with 2 concurrent workers.\n",
            "[Parallel(n_jobs=-1)]: Done 149 tasks      | elapsed:   13.4s\n",
            "[Parallel(n_jobs=-1)]: Done 436 tasks      | elapsed:   57.2s\n",
            "[Parallel(n_jobs=-1)]: Done 902 tasks      | elapsed:  2.3min\n",
            "[Parallel(n_jobs=-1)]: Done 1601 tasks      | elapsed:  4.5min\n",
            "[Parallel(n_jobs=-1)]: Done 2403 tasks      | elapsed:  7.4min\n",
            "[Parallel(n_jobs=-1)]: Done 3496 tasks      | elapsed: 10.8min\n",
            "[Parallel(n_jobs=-1)]: Done 4709 tasks      | elapsed: 14.9min\n",
            "[Parallel(n_jobs=-1)]: Done 4800 out of 4800 | elapsed: 15.4min finished\n"
          ],
          "name": "stderr"
        }
      ]
    },
    {
      "cell_type": "code",
      "metadata": {
        "id": "I3YoLnnVgIdz",
        "colab": {
          "base_uri": "https://localhost:8080/"
        },
        "outputId": "38856750-83a1-4f09-c02e-54d36792f7ac"
      },
      "source": [
        "best_clf.best_estimator_"
      ],
      "execution_count": null,
      "outputs": [
        {
          "output_type": "execute_result",
          "data": {
            "text/plain": [
              "LogisticRegression(C=0.004832930238571752, class_weight=None, dual=False,\n",
              "                   fit_intercept=True, intercept_scaling=1, l1_ratio=None,\n",
              "                   max_iter=100, multi_class='auto', n_jobs=None, penalty='l2',\n",
              "                   random_state=None, solver='lbfgs', tol=0.0001, verbose=0,\n",
              "                   warm_start=False)"
            ]
          },
          "metadata": {
            "tags": []
          },
          "execution_count": 85
        }
      ]
    },
    {
      "cell_type": "code",
      "metadata": {
        "id": "MX3SpT2UgIWT",
        "colab": {
          "base_uri": "https://localhost:8080/"
        },
        "outputId": "63bf1be4-6650-419c-edb0-7ed0d9892eec"
      },
      "source": [
        "print('Accuracy of logistic Regression {:.4f}'.format(best_clf.score(x_test, y_test)))"
      ],
      "execution_count": null,
      "outputs": [
        {
          "output_type": "stream",
          "text": [
            "Accuracy of logistic Regression 0.9841\n"
          ],
          "name": "stdout"
        }
      ]
    },
    {
      "cell_type": "code",
      "metadata": {
        "id": "hQRviUGIna2o",
        "colab": {
          "base_uri": "https://localhost:8080/",
          "height": 299
        },
        "outputId": "7d6d3652-b65c-4e3f-a45e-8eaa75a033c9"
      },
      "source": [
        "from sklearn.metrics import roc_auc_score\n",
        "from sklearn.metrics import roc_curve\n",
        "logit_roc_auc = roc_auc_score(y_test, best_clf.predict(X_test))\n",
        "fpr, tpr, thresholds = roc_curve(y_test, best_clf.predict_proba(X_test)[:,1])\n",
        "plt.figure()\n",
        "plt.plot(fpr, tpr, label='Logistic Regression (area = %0.2f)' % logit_roc_auc)\n",
        "plt.plot([0, 1], [0, 1],'r--')\n",
        "plt.xlim([0.0, 1.0])\n",
        "plt.ylim([0.0, 1.05])\n",
        "plt.xlabel('False Positive Rate')\n",
        "plt.ylabel('True Positive Rate')\n",
        "plt.title('Receiver operating characteristic')\n",
        "plt.legend(loc=\"lower right\")\n",
        "plt.savefig('Log_ROC')\n",
        "plt.show()"
      ],
      "execution_count": null,
      "outputs": [
        {
          "output_type": "display_data",
          "data": {
            "image/png": "[encoded data removed]",
            "text/plain": [
              "<Figure size 432x288 with 1 Axes>"
            ]
          },
          "metadata": {
            "tags": []
          }
        }
      ]
    },
    {
      "cell_type": "code",
      "metadata": {
        "id": "hV1NhGAwqewg"
      },
      "source": [
        "y_pred = best_clf.predict(x_test)"
      ],
      "execution_count": null,
      "outputs": []
    },
    {
      "cell_type": "code",
      "metadata": {
        "id": "l3pJOoQvnazW",
        "colab": {
          "base_uri": "https://localhost:8080/"
        },
        "outputId": "0685def1-a2c9-458b-b0e8-33af09c53c91"
      },
      "source": [
        "report = classification_report(y_pred, y_test)\n",
        "print(report)"
      ],
      "execution_count": null,
      "outputs": [
        {
          "output_type": "stream",
          "text": [
            "              precision    recall  f1-score   support\n",
            "\n",
            "           0       0.98      1.00      0.99      1532\n",
            "           1       1.00      0.93      0.96       423\n",
            "\n",
            "    accuracy                           0.98      1955\n",
            "   macro avg       0.99      0.96      0.98      1955\n",
            "weighted avg       0.98      0.98      0.98      1955\n",
            "\n"
          ],
          "name": "stdout"
        }
      ]
    },
    {
      "cell_type": "code",
      "metadata": {
        "id": "yBSNRpHjnavZ"
      },
      "source": [
        ""
      ],
      "execution_count": null,
      "outputs": []
    },
    {
      "cell_type": "code",
      "metadata": {
        "id": "H3F_KVzLnaii"
      },
      "source": [
        "from sklearn.ensemble import RandomForestClassifier\n",
        "clf = RandomForestClassifier(random_state=1)"
      ],
      "execution_count": null,
      "outputs": []
    },
    {
      "cell_type": "code",
      "metadata": {
        "id": "eTS1Wc4LY46u",
        "colab": {
          "base_uri": "https://localhost:8080/"
        },
        "outputId": "99a57729-6eb2-4b8e-a9ae-8bc50b416132"
      },
      "source": [
        "clf.fit(x_train, y_train)"
      ],
      "execution_count": null,
      "outputs": [
        {
          "output_type": "execute_result",
          "data": {
            "text/plain": [
              "RandomForestClassifier(bootstrap=True, ccp_alpha=0.0, class_weight=None,\n",
              "                       criterion='gini', max_depth=None, max_features='auto',\n",
              "                       max_leaf_nodes=None, max_samples=None,\n",
              "                       min_impurity_decrease=0.0, min_impurity_split=None,\n",
              "                       min_samples_leaf=1, min_samples_split=2,\n",
              "                       min_weight_fraction_leaf=0.0, n_estimators=100,\n",
              "                       n_jobs=None, oob_score=False, random_state=1, verbose=0,\n",
              "                       warm_start=False)"
            ]
          },
          "metadata": {
            "tags": []
          },
          "execution_count": 91
        }
      ]
    },
    {
      "cell_type": "code",
      "metadata": {
        "id": "mD8Jb5hEEjly"
      },
      "source": [
        "y_pred=clf.predict(x_test)"
      ],
      "execution_count": null,
      "outputs": []
    },
    {
      "cell_type": "code",
      "metadata": {
        "id": "U_ThYmKbE8mE",
        "colab": {
          "base_uri": "https://localhost:8080/"
        },
        "outputId": "5c77e960-76fc-4719-8cae-ba1a36f6afc8"
      },
      "source": [
        "clf.score(x_test, y_test)"
      ],
      "execution_count": null,
      "outputs": [
        {
          "output_type": "execute_result",
          "data": {
            "text/plain": [
              "0.991304347826087"
            ]
          },
          "metadata": {
            "tags": []
          },
          "execution_count": 95
        }
      ]
    },
    {
      "cell_type": "code",
      "metadata": {
        "id": "dw9mXRFGFTJP"
      },
      "source": [
        ""
      ],
      "execution_count": null,
      "outputs": []
    }
  ]
}